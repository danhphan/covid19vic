{
 "cells": [
  {
   "cell_type": "code",
   "execution_count": 1,
   "id": "ed2809dd",
   "metadata": {},
   "outputs": [],
   "source": [
    "# Using webscraping env\n",
    "import datetime, os\n",
    "import re, time, requests\n",
    "import pandas as pd\n",
    "from parsel import Selector\n",
    "from selenium import webdriver\n",
    "from selenium.webdriver import *\n",
    "from selenium.webdriver.chrome.options import Options"
   ]
  },
  {
   "cell_type": "markdown",
   "id": "840b2e3a",
   "metadata": {},
   "source": [
    "## Scrapting data"
   ]
  },
  {
   "cell_type": "code",
   "execution_count": 2,
   "id": "e595e55e",
   "metadata": {},
   "outputs": [],
   "source": [
    "def get_driver(url):\n",
    "    chrome_options = Options()\n",
    "    chrome_options.add_argument(\"--headless\")\n",
    "    driver = webdriver.Chrome(\n",
    "        executable_path=\"/home/danph/Repos/run/drivers/chromedriver\",\n",
    "        options=chrome_options)\n",
    "    driver.get(url)\n",
    "    return driver"
   ]
  },
  {
   "cell_type": "code",
   "execution_count": 3,
   "id": "f8ffa997",
   "metadata": {},
   "outputs": [],
   "source": [
    "url = \"https://www.coronavirus.vic.gov.au/exposure-sites\"\n",
    "driver = get_driver(url)\n",
    "all_sites = [] # Store info of all sites"
   ]
  },
  {
   "cell_type": "markdown",
   "id": "99f92cfe",
   "metadata": {},
   "source": [
    "### Click to different pages"
   ]
  },
  {
   "cell_type": "code",
   "execution_count": 4,
   "id": "781a7fb2",
   "metadata": {},
   "outputs": [],
   "source": [
    "def get_site_info(site):\n",
    "    \"\"\"This function get info for each site\"\"\"\n",
    "    site_name = site.xpath(\"td[2]/div/span[1]/text()\").get()\n",
    "    address = site.xpath(\"td[2]/div/span[2]/text()\").get()\n",
    "    suburb = site.xpath(\"td[2]/div/span[3]/text()\").get()\n",
    "    postcode = site.xpath(\"td[2]/div/span[5]/text()\").get()\n",
    "    period = site.xpath(\"td[3]/span[2]/text()\").get()\n",
    "    note = site.xpath(\"td[4]/span[2]/text()\").get()\n",
    "    date_added = site.xpath(\"td[5]/span[2]/text()\").get()\n",
    "    advice = site.xpath(\"td[6]/div/button/span/text()\").get()\n",
    "    return (site_name, address, suburb, postcode, period, note, date_added, advice)\n",
    "\n",
    "def get_sites(driver):\n",
    "    \"\"\"This function get sites in one page\"\"\"\n",
    "    sites = Selector(driver.page_source)\n",
    "    sites = sites.xpath('//div/table[@class=\"rpl-search-results-table\"]/tbody/tr')\n",
    "    \n",
    "    for site in sites:\n",
    "        all_sites.append(get_site_info(site))"
   ]
  },
  {
   "cell_type": "code",
   "execution_count": null,
   "id": "159218e4",
   "metadata": {},
   "outputs": [],
   "source": [
    "%%time\n",
    "# Get data in all pages\n",
    "## Click each page and get data in each table\n",
    "while True:\n",
    "    try:\n",
    "        get_sites(driver)\n",
    "        time.sleep(3)\n",
    "        next_page = driver.find_element_by_xpath(\"//nav[@class='rpl-pagination']/div/button[last()]\")\n",
    "        next_page.click()        \n",
    "    except Exception:\n",
    "        print(\"Finished\")\n",
    "        break"
   ]
  },
  {
   "cell_type": "markdown",
   "id": "31807dfd",
   "metadata": {},
   "source": [
    "### Save into a dataframe"
   ]
  },
  {
   "cell_type": "code",
   "execution_count": null,
   "id": "c42b0a11",
   "metadata": {},
   "outputs": [],
   "source": [
    "sites_df = pd.DataFrame(all_sites, columns=['site_name','address','suburb', 'postcode', 'period', 'note', 'date_added','advice'])\n",
    "sites_df.shape"
   ]
  },
  {
   "cell_type": "code",
   "execution_count": null,
   "id": "41a01b1f",
   "metadata": {},
   "outputs": [],
   "source": [
    "sites_df.head()"
   ]
  },
  {
   "cell_type": "code",
   "execution_count": 8,
   "id": "cd84a49f",
   "metadata": {},
   "outputs": [
    {
     "data": {
      "text/plain": [
       "site_name     0\n",
       "address       0\n",
       "suburb        0\n",
       "postcode      0\n",
       "period        0\n",
       "note          0\n",
       "date_added    0\n",
       "advice        0\n",
       "dtype: int64"
      ]
     },
     "execution_count": 8,
     "metadata": {},
     "output_type": "execute_result"
    }
   ],
   "source": [
    "sites_df.isna().sum()"
   ]
  },
  {
   "cell_type": "markdown",
   "id": "1bd715a4",
   "metadata": {},
   "source": [
    "### Basic data processing and save into a csv file"
   ]
  },
  {
   "cell_type": "code",
   "execution_count": 9,
   "id": "0125b974",
   "metadata": {},
   "outputs": [],
   "source": [
    "def get_tier(text):\n",
    "    if text.find(\"Tier 1\") > -1:\n",
    "        res = \"Tier 1\"\n",
    "    elif text.find(\"Tier 2\") > -1:\n",
    "        res = \"Tier 2\"\n",
    "    else:\n",
    "        res = \"Tier 3\"\n",
    "    return res\n",
    "\n",
    "sites_df['tier'] = sites_df.advice.apply(lambda x: get_tier(x))"
   ]
  },
  {
   "cell_type": "code",
   "execution_count": 10,
   "id": "d82e9b78",
   "metadata": {},
   "outputs": [],
   "source": [
    "# TODO: Clean address\n",
    "sites_df['full_address'] = sites_df['address'] + \", \" + sites_df['suburb'] + \", Victoria, \" + sites_df['postcode'].astype(str) + \", Australia\"\n",
    "# Save into json file\n",
    "sites_df.to_json(\"../data/covid_sites.json\")"
   ]
  }
 ],
 "metadata": {
  "kernelspec": {
   "display_name": "Python 3",
   "language": "python",
   "name": "python3"
  },
  "language_info": {
   "codemirror_mode": {
    "name": "ipython",
    "version": 3
   },
   "file_extension": ".py",
   "mimetype": "text/x-python",
   "name": "python",
   "nbconvert_exporter": "python",
   "pygments_lexer": "ipython3",
   "version": "3.8.5"
  }
 },
 "nbformat": 4,
 "nbformat_minor": 5
}
