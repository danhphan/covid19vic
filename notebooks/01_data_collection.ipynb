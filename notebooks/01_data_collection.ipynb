{
 "cells": [
  {
   "cell_type": "code",
   "execution_count": 2,
   "id": "digital-hotel",
   "metadata": {},
   "outputs": [],
   "source": [
    "# Using webscraping env\n",
    "import datetime, os\n",
    "import re, time, requests\n",
    "import pandas as pd\n",
    "from parsel import Selector\n",
    "from selenium import webdriver\n",
    "from selenium.webdriver import *\n",
    "from selenium.webdriver.chrome.options import Options"
   ]
  },
  {
   "cell_type": "markdown",
   "id": "dimensional-girlfriend",
   "metadata": {},
   "source": [
    "## Scrapting data"
   ]
  },
  {
   "cell_type": "code",
   "execution_count": 2,
   "id": "amino-grenada",
   "metadata": {},
   "outputs": [],
   "source": [
    "def get_driver(url):\n",
    "    chrome_options = Options()\n",
    "    chrome_options.add_argument(\"--headless\")\n",
    "    driver = webdriver.Chrome(\n",
    "        executable_path=\"/home/danph/Repos/run/drivers/chromedriver\",\n",
    "        options=chrome_options)\n",
    "    driver.get(url)\n",
    "    return driver"
   ]
  },
  {
   "cell_type": "code",
   "execution_count": 3,
   "id": "informed-drill",
   "metadata": {},
   "outputs": [],
   "source": [
    "url = \"https://www.coronavirus.vic.gov.au/exposure-sites\"\n",
    "driver = get_driver(url)\n",
    "all_sites = [] # Store info of all sites"
   ]
  },
  {
   "cell_type": "markdown",
   "id": "amino-worry",
   "metadata": {},
   "source": [
    "### Click to different pages"
   ]
  },
  {
   "cell_type": "code",
   "execution_count": 4,
   "id": "photographic-alignment",
   "metadata": {},
   "outputs": [],
   "source": [
    "def get_site_info(site):\n",
    "    \"\"\"This function get info for each site\"\"\"\n",
    "    site_name = site.xpath(\"td[2]/div/span[1]/text()\").get()\n",
    "    address = site.xpath(\"td[2]/div/span[2]/text()\").get()\n",
    "    suburb = site.xpath(\"td[2]/div/span[3]/text()\").get()\n",
    "    postcode = site.xpath(\"td[2]/div/span[5]/text()\").get()\n",
    "    period = site.xpath(\"td[3]/span[2]/text()\").get()\n",
    "    note = site.xpath(\"td[4]/span[2]/text()\").get()\n",
    "    date_added = site.xpath(\"td[5]/span[2]/text()\").get()\n",
    "    advice = site.xpath(\"td[6]/div/button/span/text()\").get()\n",
    "    return (site_name, address, suburb, postcode, period, note, date_added, advice)\n",
    "\n",
    "def get_sites(driver):\n",
    "    \"\"\"This function get sites in one page\"\"\"\n",
    "    sites = Selector(driver.page_source)\n",
    "    sites = sites.xpath('//div/table[@class=\"rpl-search-results-table\"]/tbody/tr')\n",
    "    \n",
    "    for site in sites:\n",
    "        all_sites.append(get_site_info(site))"
   ]
  },
  {
   "cell_type": "code",
   "execution_count": 5,
   "id": "rental-minimum",
   "metadata": {},
   "outputs": [
    {
     "name": "stdout",
     "output_type": "stream",
     "text": [
      "Finished\n",
      "CPU times: user 129 ms, sys: 5.58 ms, total: 135 ms\n",
      "Wall time: 1.78 s\n"
     ]
    }
   ],
   "source": [
    "%%time\n",
    "# Get data in all pages\n",
    "## Click each page and get data in each table\n",
    "while True:\n",
    "    try:\n",
    "        get_sites(driver)\n",
    "        next_page = driver.find_element_by_xpath(\"//nav[@class='rpl-pagination']/div/button[last()]\")\n",
    "        next_page.click()        \n",
    "    except Exception:\n",
    "        print(\"Finished\")\n",
    "        break"
   ]
  },
  {
   "cell_type": "markdown",
   "id": "behavioral-blackberry",
   "metadata": {},
   "source": [
    "### Save into a dataframe"
   ]
  },
  {
   "cell_type": "code",
   "execution_count": 6,
   "id": "voluntary-banks",
   "metadata": {},
   "outputs": [
    {
     "data": {
      "text/plain": [
       "(117, 8)"
      ]
     },
     "execution_count": 6,
     "metadata": {},
     "output_type": "execute_result"
    }
   ],
   "source": [
    "sites_df = pd.DataFrame(all_sites, columns=['site_name','address','suburb', 'postcode', 'period', 'note', 'date_added','advice'])\n",
    "sites_df.shape"
   ]
  },
  {
   "cell_type": "code",
   "execution_count": 7,
   "id": "empirical-collins",
   "metadata": {},
   "outputs": [
    {
     "data": {
      "text/html": [
       "<div>\n",
       "<style scoped>\n",
       "    .dataframe tbody tr th:only-of-type {\n",
       "        vertical-align: middle;\n",
       "    }\n",
       "\n",
       "    .dataframe tbody tr th {\n",
       "        vertical-align: top;\n",
       "    }\n",
       "\n",
       "    .dataframe thead th {\n",
       "        text-align: right;\n",
       "    }\n",
       "</style>\n",
       "<table border=\"1\" class=\"dataframe\">\n",
       "  <thead>\n",
       "    <tr style=\"text-align: right;\">\n",
       "      <th></th>\n",
       "      <th>site_name</th>\n",
       "      <th>address</th>\n",
       "      <th>suburb</th>\n",
       "      <th>postcode</th>\n",
       "      <th>period</th>\n",
       "      <th>note</th>\n",
       "      <th>date_added</th>\n",
       "      <th>advice</th>\n",
       "    </tr>\n",
       "  </thead>\n",
       "  <tbody>\n",
       "    <tr>\n",
       "      <th>0</th>\n",
       "      <td>Dukes Gym Abbotsford</td>\n",
       "      <td>571-573 Victoria Street</td>\n",
       "      <td>Abbotsford</td>\n",
       "      <td>3067</td>\n",
       "      <td>24/05/2021 6:15pm - 8:15pm</td>\n",
       "      <td>Case attended venue</td>\n",
       "      <td>26/05/2021</td>\n",
       "      <td>Tier 1 - Get tested immediately and quarantin...</td>\n",
       "    </tr>\n",
       "    <tr>\n",
       "      <th>1</th>\n",
       "      <td>Chelsea Heights Hotel</td>\n",
       "      <td>Springvale Road &amp; Wells Road</td>\n",
       "      <td>Aspendale Gardens</td>\n",
       "      <td>3196</td>\n",
       "      <td>23/05/2021 12:10pm - 1:30pm</td>\n",
       "      <td>Case dined at venue</td>\n",
       "      <td>27/05/2021</td>\n",
       "      <td>Tier 1 - Get tested immediately and quarantin...</td>\n",
       "    </tr>\n",
       "    <tr>\n",
       "      <th>2</th>\n",
       "      <td>Axedale Tavern</td>\n",
       "      <td>105 High Street</td>\n",
       "      <td>Axedale</td>\n",
       "      <td>3551</td>\n",
       "      <td>23/05/2021 11:45am - 1:30pm</td>\n",
       "      <td>Case attended function</td>\n",
       "      <td>26/05/2021</td>\n",
       "      <td>Tier 1 - Get tested immediately and quarantin...</td>\n",
       "    </tr>\n",
       "    <tr>\n",
       "      <th>3</th>\n",
       "      <td>Endless Lifestyle Studio\\r\\n\\r</td>\n",
       "      <td>Shop 3/188 Whitehorse Road\\r\\n\\r</td>\n",
       "      <td>Balwyn</td>\n",
       "      <td>3103</td>\n",
       "      <td>23/05/2021 9:45am - 12:40pm</td>\n",
       "      <td>Case attended venue</td>\n",
       "      <td>26/05/2021</td>\n",
       "      <td>Tier 1 - Get tested immediately and quarantin...</td>\n",
       "    </tr>\n",
       "    <tr>\n",
       "      <th>4</th>\n",
       "      <td>Mcdonalds Bayswater North</td>\n",
       "      <td>296 Canterbury Road</td>\n",
       "      <td>Bayswater North</td>\n",
       "      <td>3153</td>\n",
       "      <td>21/05/2021 11:00pm - 12:00am</td>\n",
       "      <td>Case dined in restaurant</td>\n",
       "      <td>26/05/2021</td>\n",
       "      <td>Tier 1 - Get tested immediately and quarantin...</td>\n",
       "    </tr>\n",
       "  </tbody>\n",
       "</table>\n",
       "</div>"
      ],
      "text/plain": [
       "                          site_name                             address  \\\n",
       "0             Dukes Gym Abbotsford             571-573 Victoria Street    \n",
       "1            Chelsea Heights Hotel        Springvale Road & Wells Road    \n",
       "2                   Axedale Tavern                     105 High Street    \n",
       "3   Endless Lifestyle Studio\\r\\n\\r    Shop 3/188 Whitehorse Road\\r\\n\\r    \n",
       "4        Mcdonalds Bayswater North                 296 Canterbury Road    \n",
       "\n",
       "                suburb postcode                        period  \\\n",
       "0          Abbotsford     3067     24/05/2021 6:15pm - 8:15pm   \n",
       "1   Aspendale Gardens     3196    23/05/2021 12:10pm - 1:30pm   \n",
       "2             Axedale     3551    23/05/2021 11:45am - 1:30pm   \n",
       "3              Balwyn     3103    23/05/2021 9:45am - 12:40pm   \n",
       "4     Bayswater North     3153   21/05/2021 11:00pm - 12:00am   \n",
       "\n",
       "                        note  date_added  \\\n",
       "0        Case attended venue  26/05/2021   \n",
       "1        Case dined at venue  27/05/2021   \n",
       "2     Case attended function  26/05/2021   \n",
       "3        Case attended venue  26/05/2021   \n",
       "4  Case dined in restaurant   26/05/2021   \n",
       "\n",
       "                                              advice  \n",
       "0   Tier 1 - Get tested immediately and quarantin...  \n",
       "1   Tier 1 - Get tested immediately and quarantin...  \n",
       "2   Tier 1 - Get tested immediately and quarantin...  \n",
       "3   Tier 1 - Get tested immediately and quarantin...  \n",
       "4   Tier 1 - Get tested immediately and quarantin...  "
      ]
     },
     "execution_count": 7,
     "metadata": {},
     "output_type": "execute_result"
    }
   ],
   "source": [
    "sites_df.head()"
   ]
  },
  {
   "cell_type": "code",
   "execution_count": 8,
   "id": "ethical-novel",
   "metadata": {},
   "outputs": [
    {
     "data": {
      "text/plain": [
       "site_name     0\n",
       "address       0\n",
       "suburb        0\n",
       "postcode      0\n",
       "period        0\n",
       "note          0\n",
       "date_added    0\n",
       "advice        0\n",
       "dtype: int64"
      ]
     },
     "execution_count": 8,
     "metadata": {},
     "output_type": "execute_result"
    }
   ],
   "source": [
    "sites_df.isna().sum()"
   ]
  },
  {
   "cell_type": "markdown",
   "id": "quarterly-sensitivity",
   "metadata": {},
   "source": [
    "### Basic data processing and save into a csv file"
   ]
  },
  {
   "cell_type": "code",
   "execution_count": 4,
   "id": "therapeutic-layout",
   "metadata": {},
   "outputs": [],
   "source": [
    "def get_tier(text):\n",
    "    if text.find(\"Tier 1\") > -1:\n",
    "        res = \"Tier 1\"\n",
    "    elif text.find(\"Tier 2\") > -1:\n",
    "        res = \"Tier 2\"\n",
    "    else:\n",
    "        res = \"Tier 3\"\n",
    "    return res"
   ]
  },
  {
   "cell_type": "code",
   "execution_count": 5,
   "id": "living-synthetic",
   "metadata": {},
   "outputs": [],
   "source": [
    "sites_df['tier'] = sites_df.advice.apply(lambda x: get_tier(x))"
   ]
  },
  {
   "cell_type": "code",
   "execution_count": 6,
   "id": "incredible-seattle",
   "metadata": {},
   "outputs": [],
   "source": [
    "# TODO: Clean address"
   ]
  },
  {
   "cell_type": "code",
   "execution_count": 7,
   "id": "anonymous-identification",
   "metadata": {},
   "outputs": [],
   "source": [
    "sites_df['full_address'] = sites_df['address'] + \", \" + sites_df['suburb'] + \", Victoria, \" + sites_df['postcode'].astype(str) + \", Australia\""
   ]
  },
  {
   "cell_type": "code",
   "execution_count": 8,
   "id": "defined-machine",
   "metadata": {},
   "outputs": [],
   "source": [
    "sites_df.to_json(\"../data/covid_sites.json\")"
   ]
  }
 ],
 "metadata": {
  "kernelspec": {
   "display_name": "Python 3",
   "language": "python",
   "name": "python3"
  },
  "language_info": {
   "codemirror_mode": {
    "name": "ipython",
    "version": 3
   },
   "file_extension": ".py",
   "mimetype": "text/x-python",
   "name": "python",
   "nbconvert_exporter": "python",
   "pygments_lexer": "ipython3",
   "version": "3.7.10"
  }
 },
 "nbformat": 4,
 "nbformat_minor": 5
}
